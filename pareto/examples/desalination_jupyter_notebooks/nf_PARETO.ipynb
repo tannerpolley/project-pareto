{
 "cells": [
  {
   "cell_type": "code",
   "id": "initial_id",
   "metadata": {
    "collapsed": true,
    "ExecuteTime": {
     "end_time": "2024-11-21T21:05:42.445870Z",
     "start_time": "2024-11-21T21:05:42.058887Z"
    }
   },
   "source": "import pandas as pd",
   "outputs": [],
   "execution_count": 1
  },
  {
   "metadata": {
    "ExecuteTime": {
     "end_time": "2024-11-21T21:05:42.970840Z",
     "start_time": "2024-11-21T21:05:42.958057Z"
    }
   },
   "cell_type": "code",
   "source": [
    "df = pd.read_csv('nf_data.csv')\n",
    "df['CAPEX (kUSD/year)'] = df['CAPEX (kUSD/year)']*1000\n",
    "df['OPEX (kUSD/year)'] = df['OPEX (kUSD/year)']*1000\n",
    "df.columns = [ 'Flow (L/s)', 'Inlet TDS (kg/L)', 'CAPEX (kUSD/year)', 'OPEX (kUSD/year)', 'Li Efficiency (%)']"
   ],
   "id": "e400663f287f426b",
   "outputs": [],
   "execution_count": 2
  },
  {
   "metadata": {
    "ExecuteTime": {
     "end_time": "2024-11-21T21:05:58.150095Z",
     "start_time": "2024-11-21T21:05:58.121470Z"
    }
   },
   "cell_type": "code",
   "source": [
    "print(df)\n",
    "df.to_csv(r'C:\\Users\\Tanner\\Documents\\git\\project-pareto\\pareto\\examples\\desalination_jupyter_notebooks\\nf_data.csv', index=False)"
   ],
   "id": "95ad8f53db54938b",
   "outputs": [
    {
     "name": "stdout",
     "output_type": "stream",
     "text": [
      "      Flow (L/s)  Inlet TDS (kg/L)  CAPEX (kUSD/year)  OPEX (kUSD/year)  \\\n",
      "0       2.368365          0.008896           3.445149         11.646979   \n",
      "1      17.368719          0.004044           6.165924         27.327101   \n",
      "2      16.305966          0.002859           5.950435         22.150760   \n",
      "3       6.467635          0.008779           4.214722         23.309146   \n",
      "4      17.621651          0.002897           6.189236         23.515961   \n",
      "...          ...               ...                ...               ...   \n",
      "4917   18.567902          0.009873           6.512002         58.815996   \n",
      "4918   13.714179          0.005772           5.526972         29.024671   \n",
      "4919    1.762070          0.004866           2.085401          5.502978   \n",
      "4920    1.138836          0.001616           0.937991          1.901283   \n",
      "4921    2.420124          0.007505           3.450850         10.303876   \n",
      "\n",
      "      Li Efficiency (%)  \n",
      "0             31.801502  \n",
      "1             37.524242  \n",
      "2             38.365688  \n",
      "3             39.878366  \n",
      "4             38.225556  \n",
      "...                 ...  \n",
      "4917          40.333680  \n",
      "4918          38.275392  \n",
      "4919          32.350543  \n",
      "4920          36.248810  \n",
      "4921          30.517910  \n",
      "\n",
      "[4922 rows x 5 columns]\n"
     ]
    }
   ],
   "execution_count": 4
  },
  {
   "metadata": {},
   "cell_type": "code",
   "outputs": [],
   "execution_count": null,
   "source": "",
   "id": "f4c48cbae3fae166"
  }
 ],
 "metadata": {
  "kernelspec": {
   "display_name": "Python 3",
   "language": "python",
   "name": "python3"
  },
  "language_info": {
   "codemirror_mode": {
    "name": "ipython",
    "version": 2
   },
   "file_extension": ".py",
   "mimetype": "text/x-python",
   "name": "python",
   "nbconvert_exporter": "python",
   "pygments_lexer": "ipython2",
   "version": "2.7.6"
  }
 },
 "nbformat": 4,
 "nbformat_minor": 5
}
